{
  "nbformat": 4,
  "nbformat_minor": 0,
  "metadata": {
    "colab": {
      "provenance": [],
      "authorship_tag": "ABX9TyOgIqRgvgZw53gAL29Cora5",
      "include_colab_link": true
    },
    "kernelspec": {
      "name": "python3",
      "display_name": "Python 3"
    },
    "language_info": {
      "name": "python"
    }
  },
  "cells": [
    {
      "cell_type": "markdown",
      "metadata": {
        "id": "view-in-github",
        "colab_type": "text"
      },
      "source": [
        "<a href=\"https://colab.research.google.com/github/ManJ-PC/advanced_py/blob/main/imovirtual.ipynb\" target=\"_parent\"><img src=\"https://colab.research.google.com/assets/colab-badge.svg\" alt=\"Open In Colab\"/></a>"
      ]
    },
    {
      "cell_type": "code",
      "execution_count": 3,
      "metadata": {
        "id": "KHphgx2b-Ja9"
      },
      "outputs": [],
      "source": [
        "!pip install scrapy\n",
        "import scrapy\n",
        "import re"
      ]
    },
    {
      "cell_type": "code",
      "source": [
        "class Porto_housing_item(scrapy.Spider):\n",
        "  name = 'imovirtual'\n",
        "  start_urls = [\n",
        "      'https://www.imovirtual.com/comprar/apartamento/porto/'\n",
        "  ]\n",
        "\n",
        "  def parse(self, response):\n",
        "\n",
        "    offer_items = response.css(\"article.offer-item-ad_id\")\n",
        "    offer_links = offer_items.css('h3 a::attr(href)').getall()\n",
        "\n",
        "    yield from response.follow_all(offer_links, self.parse_house)\n",
        "\n",
        "    #Find next page and rerun this method\n",
        "\n",
        "    next_page = response.css('li.pager-next a::attr(href)').get()\n",
        "\n",
        "    if next_page is not None:\n",
        "      yield response.follow(next_page, callback = self.parse)\n",
        "\n",
        "  def parse_house(self, response):\n",
        "    \"\"\"Parse information found on house description page.\"\"\"\n",
        "    items = Porto_housing_item()\n",
        "\n",
        "    link_casa = response.css('link::attr(href)').extract()[1]\n",
        "    title = response.css('h1.css-1wnihf5 efcnut38::text').extract()\n",
        "    address = response.css"
      ],
      "metadata": {
        "id": "GiLCB-7T-OTu"
      },
      "execution_count": 4,
      "outputs": []
    },
    {
      "cell_type": "code",
      "source": [],
      "metadata": {
        "id": "J-8_Nd-NT5rv"
      },
      "execution_count": null,
      "outputs": []
    }
  ]
}