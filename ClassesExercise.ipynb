{
  "nbformat": 4,
  "nbformat_minor": 0,
  "metadata": {
    "colab": {
      "provenance": [],
      "authorship_tag": "ABX9TyOGx9gwtZ7HOX1YvUKjQeX+",
      "include_colab_link": true
    },
    "kernelspec": {
      "name": "python3",
      "display_name": "Python 3"
    },
    "language_info": {
      "name": "python"
    }
  },
  "cells": [
    {
      "cell_type": "markdown",
      "metadata": {
        "id": "view-in-github",
        "colab_type": "text"
      },
      "source": [
        "<a href=\"https://colab.research.google.com/github/ManJ-PC/advanced_py/blob/main/ClassesExercise.ipynb\" target=\"_parent\"><img src=\"https://colab.research.google.com/assets/colab-badge.svg\" alt=\"Open In Colab\"/></a>"
      ]
    },
    {
      "cell_type": "code",
      "execution_count": 7,
      "metadata": {
        "id": "RRywpwoa3vS2"
      },
      "outputs": [],
      "source": [
        "import math\n",
        "\n",
        "\n",
        "class Temperatura:\n",
        "  def __init__(self, c , f):\n",
        "    self.cel = c\n",
        "    self.fah = f\n",
        "\n",
        "  def conversion_to_fah(self):#, c):\n",
        "    self.fah = self.cel * 1.8 + 32\n",
        "    return self.fah\n",
        "\n",
        "  def __init__(self, c):\n",
        "    self.cel = c\n",
        "\n",
        "  def conversion_to_fah(self):#, c):\n",
        "    self.fah = self.cel * 1.8 + 32\n",
        "    return self.fah\n",
        "    f/1.8 -32\n",
        "\n",
        "def __init__(Temp, f):\n",
        "  Temp.fah = f\n",
        "\n",
        "\n",
        "\n",
        "\n"
      ]
    },
    {
      "cell_type": "code",
      "source": [
        "#SOLUTION\n",
        "\n",
        "class Temperatura():\n",
        "  def __init__(self, C):\n",
        "    self.__C=C\n",
        "    self.__F=1.8*C+32\n",
        "\n",
        "  def LerC(self):\n",
        "    return f\"{self.__C:>2.2f}\"\n",
        "\n",
        "  def LerF(self):\n",
        "    return f\"{self.__F:<2.2f}\"\n",
        "\n",
        "  def MostrarTemp(self):\n",
        "    print(f\"{self.LerC()}C={self.LerF()}F\")\n",
        "\n",
        "if __name__ == \"__main__\":\n",
        "  T = Temperatura(float(input(\"Qual a temperatura em graus Celsius: \")))\n",
        "  T.MostrarTemp()\n",
        "  T.LerF()"
      ],
      "metadata": {
        "colab": {
          "base_uri": "https://localhost:8080/",
          "height": 36
        },
        "id": "MHs33ueM8Xua",
        "outputId": "8c38d0bb-de2c-4b48-f329-7b79e61d1015"
      },
      "execution_count": 18,
      "outputs": [
        {
          "output_type": "execute_result",
          "data": {
            "text/plain": [
              "'53.60'"
            ],
            "application/vnd.google.colaboratory.intrinsic+json": {
              "type": "string"
            }
          },
          "metadata": {},
          "execution_count": 18
        }
      ]
    },
    {
      "cell_type": "code",
      "source": [
        "if __name__ == \"__main__\":\n",
        "  T = Temperatura(5,9)\n",
        "  print(T.conversion_to_fah())\n",
        "  print(conversion_to_)"
      ],
      "metadata": {
        "colab": {
          "base_uri": "https://localhost:8080/",
          "height": 226
        },
        "id": "MLV9bAf65GVu",
        "outputId": "26f47e41-6cde-4886-df2a-274a14e132b3"
      },
      "execution_count": 11,
      "outputs": [
        {
          "output_type": "error",
          "ename": "TypeError",
          "evalue": "ignored",
          "traceback": [
            "\u001b[0;31m---------------------------------------------------------------------------\u001b[0m",
            "\u001b[0;31mTypeError\u001b[0m                                 Traceback (most recent call last)",
            "\u001b[0;32m<ipython-input-11-d12b95033b59>\u001b[0m in \u001b[0;36m<cell line: 1>\u001b[0;34m()\u001b[0m\n\u001b[1;32m      1\u001b[0m \u001b[0;32mif\u001b[0m \u001b[0m__name__\u001b[0m \u001b[0;34m==\u001b[0m \u001b[0;34m\"__main__\"\u001b[0m\u001b[0;34m:\u001b[0m\u001b[0;34m\u001b[0m\u001b[0;34m\u001b[0m\u001b[0m\n\u001b[0;32m----> 2\u001b[0;31m   \u001b[0mT\u001b[0m \u001b[0;34m=\u001b[0m \u001b[0mTemperatura\u001b[0m\u001b[0;34m(\u001b[0m\u001b[0;36m5\u001b[0m\u001b[0;34m,\u001b[0m\u001b[0;36m9\u001b[0m\u001b[0;34m)\u001b[0m\u001b[0;34m\u001b[0m\u001b[0;34m\u001b[0m\u001b[0m\n\u001b[0m\u001b[1;32m      3\u001b[0m   \u001b[0mprint\u001b[0m\u001b[0;34m(\u001b[0m\u001b[0mT\u001b[0m\u001b[0;34m.\u001b[0m\u001b[0mconversion_to_fah\u001b[0m\u001b[0;34m(\u001b[0m\u001b[0;34m)\u001b[0m\u001b[0;34m)\u001b[0m\u001b[0;34m\u001b[0m\u001b[0;34m\u001b[0m\u001b[0m\n\u001b[1;32m      4\u001b[0m   \u001b[0mprint\u001b[0m\u001b[0;34m(\u001b[0m\u001b[0mconversion_to_\u001b[0m\u001b[0;34m)\u001b[0m\u001b[0;34m\u001b[0m\u001b[0;34m\u001b[0m\u001b[0m\n",
            "\u001b[0;31mTypeError\u001b[0m: Temperatura.__init__() takes 2 positional arguments but 3 were given"
          ]
        }
      ]
    },
    {
      "cell_type": "code",
      "source": [
        "\n",
        "class TempConverter:\n",
        "    \"\"\"\n",
        "    A temperature converter class that converts Celsius to Fahrenheit.\n",
        "\n",
        "    Usage:\n",
        "    - Initialize an instance of TempConverter with a Celsius temperature value.\n",
        "    - Call the show_temp() method to print the Celsius and Fahrenheit temperatures.\n",
        "    \"\"\"\n",
        "    def __init__(self, C: float, F: float):\n",
        "        self.C = C\n",
        "        self.F = F\n",
        "\n",
        "    def read_fahrenheit(self) -> float:\n",
        "        \"\"\"\n",
        "        Convert the Celsius temperature to Fahrenheit.\n",
        "\n",
        "        Returns:\n",
        "        - The converted Fahrenheit temperature.\n",
        "        \"\"\"\n",
        "        return f\"{self.F:.2f}\"  # Use f-string formatting for fixed precision\n",
        "\n",
        "    def read_celsius(self) -> float:\n",
        "        \"\"\"\n",
        "        Read the Celsius temperature.\n",
        "\n",
        "        Returns:\n",
        "        - The Celsius temperature.\n",
        "        \"\"\"\n",
        "        return f\"{self.C:.2f}\"  # Use f-string formatting for fixed precision\n",
        "\n",
        "    def show_temp(self):\n",
        "        \"\"\"\n",
        "        Print the Celsius and Fahrenheit temperatures.\n",
        "        \"\"\"\n",
        "        print(f\"C = {self.read_celsius()}  |  F = {self.read_fahrenheit()}\")\n",
        "\n",
        "\n",
        "if __name__ == \"__main__\":\n",
        "    temperature_celsius = float(input(\"What is the temperature in Celsius? \"))\n",
        "    T = TempConverter(temperature_celsius, (temperature_celsius * 1.8) + 32)\n",
        "    T.show_temp()"
      ],
      "metadata": {
        "id": "-bxBW_oS9BNr"
      },
      "execution_count": null,
      "outputs": []
    }
  ]
}