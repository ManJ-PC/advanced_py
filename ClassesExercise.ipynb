{
  "nbformat": 4,
  "nbformat_minor": 0,
  "metadata": {
    "colab": {
      "provenance": [],
      "authorship_tag": "ABX9TyOAmlyWx9g/XaDKEiezLg5d",
      "include_colab_link": true
    },
    "kernelspec": {
      "name": "python3",
      "display_name": "Python 3"
    },
    "language_info": {
      "name": "python"
    }
  },
  "cells": [
    {
      "cell_type": "markdown",
      "metadata": {
        "id": "view-in-github",
        "colab_type": "text"
      },
      "source": [
        "<a href=\"https://colab.research.google.com/github/ManJ-PC/advanced_py/blob/main/ClassesExercise.ipynb\" target=\"_parent\"><img src=\"https://colab.research.google.com/assets/colab-badge.svg\" alt=\"Open In Colab\"/></a>"
      ]
    },
    {
      "cell_type": "code",
      "execution_count": null,
      "metadata": {
        "id": "RRywpwoa3vS2"
      },
      "outputs": [],
      "source": [
        "import math\n",
        "\n",
        "\n",
        "class Temperatura:\n",
        "  def __init__(self, c , f):\n",
        "    self.cel = c\n",
        "    self.fah = f\n",
        "\n",
        "  def conversion_to_fah(self):#, c):\n",
        "    self.fah = self.cel * 1.8 + 32\n",
        "    return self.fah\n",
        "\n",
        "  def __init__(self, c):\n",
        "    self.cel = c\n",
        "\n",
        "  def conversion_to_fah(self):#, c):\n",
        "    self.fah = self.cel * 1.8 + 32\n",
        "    return self.fah\n",
        "    f/1.8 -32\n",
        "\n",
        "def __init__(Temp, f):\n",
        "  Temp.fah = f\n",
        "\n",
        "\n",
        "\n",
        "\n"
      ]
    },
    {
      "cell_type": "code",
      "source": [
        "#SOLUTION\n",
        "\n",
        "class Temperatura():\n",
        "  def __init__(self, C):\n",
        "    self.__C=C\n",
        "    self.__F=1.8*C+32\n",
        "\n",
        "  def LerC(self):\n",
        "    return f\"{self.__C:>2.2f}\"\n",
        "\n",
        "  def LerF(self):\n",
        "    return f\"{self.__F:<2.2f}\"\n",
        "\n",
        "  def MostrarTemp(self):\n",
        "    print(f\"{self.LerC()}C={self.LerF()}F\")\n",
        "\n",
        "if __name__ == \"__main__\":\n",
        "  T = Temperatura(float(input(\"Qual a temperatura em graus Celsius: \")))\n",
        "  T.MostrarTemp()\n",
        "  T.LerF()"
      ],
      "metadata": {
        "colab": {
          "base_uri": "https://localhost:8080/",
          "height": 36
        },
        "id": "MHs33ueM8Xua",
        "outputId": "8c38d0bb-de2c-4b48-f329-7b79e61d1015"
      },
      "execution_count": null,
      "outputs": [
        {
          "output_type": "execute_result",
          "data": {
            "text/plain": [
              "'53.60'"
            ],
            "application/vnd.google.colaboratory.intrinsic+json": {
              "type": "string"
            }
          },
          "metadata": {},
          "execution_count": 18
        }
      ]
    },
    {
      "cell_type": "code",
      "source": [
        "if __name__ == \"__main__\":\n",
        "  T = Temperatura(5,9)\n",
        "  print(T.conversion_to_fah())\n",
        "  print(conversion_to_)"
      ],
      "metadata": {
        "colab": {
          "base_uri": "https://localhost:8080/",
          "height": 226
        },
        "id": "MLV9bAf65GVu",
        "outputId": "26f47e41-6cde-4886-df2a-274a14e132b3"
      },
      "execution_count": null,
      "outputs": [
        {
          "output_type": "error",
          "ename": "TypeError",
          "evalue": "ignored",
          "traceback": [
            "\u001b[0;31m---------------------------------------------------------------------------\u001b[0m",
            "\u001b[0;31mTypeError\u001b[0m                                 Traceback (most recent call last)",
            "\u001b[0;32m<ipython-input-11-d12b95033b59>\u001b[0m in \u001b[0;36m<cell line: 1>\u001b[0;34m()\u001b[0m\n\u001b[1;32m      1\u001b[0m \u001b[0;32mif\u001b[0m \u001b[0m__name__\u001b[0m \u001b[0;34m==\u001b[0m \u001b[0;34m\"__main__\"\u001b[0m\u001b[0;34m:\u001b[0m\u001b[0;34m\u001b[0m\u001b[0;34m\u001b[0m\u001b[0m\n\u001b[0;32m----> 2\u001b[0;31m   \u001b[0mT\u001b[0m \u001b[0;34m=\u001b[0m \u001b[0mTemperatura\u001b[0m\u001b[0;34m(\u001b[0m\u001b[0;36m5\u001b[0m\u001b[0;34m,\u001b[0m\u001b[0;36m9\u001b[0m\u001b[0;34m)\u001b[0m\u001b[0;34m\u001b[0m\u001b[0;34m\u001b[0m\u001b[0m\n\u001b[0m\u001b[1;32m      3\u001b[0m   \u001b[0mprint\u001b[0m\u001b[0;34m(\u001b[0m\u001b[0mT\u001b[0m\u001b[0;34m.\u001b[0m\u001b[0mconversion_to_fah\u001b[0m\u001b[0;34m(\u001b[0m\u001b[0;34m)\u001b[0m\u001b[0;34m)\u001b[0m\u001b[0;34m\u001b[0m\u001b[0;34m\u001b[0m\u001b[0m\n\u001b[1;32m      4\u001b[0m   \u001b[0mprint\u001b[0m\u001b[0;34m(\u001b[0m\u001b[0mconversion_to_\u001b[0m\u001b[0;34m)\u001b[0m\u001b[0;34m\u001b[0m\u001b[0;34m\u001b[0m\u001b[0m\n",
            "\u001b[0;31mTypeError\u001b[0m: Temperatura.__init__() takes 2 positional arguments but 3 were given"
          ]
        }
      ]
    },
    {
      "cell_type": "code",
      "source": [
        "\n",
        "class TempConverter:\n",
        "    \"\"\"\n",
        "    A temperature converter class that converts Celsius to Fahrenheit.\n",
        "\n",
        "    Usage:\n",
        "    - Initialize an instance of TempConverter with a Celsius temperature value.\n",
        "    - Call the show_temp() method to print the Celsius and Fahrenheit temperatures.\n",
        "    \"\"\"\n",
        "    def __init__(self, C: float, F: float):\n",
        "        self.C = C\n",
        "        self.F = F\n",
        "\n",
        "    def read_fahrenheit(self) -> float:\n",
        "        \"\"\"\n",
        "        Convert the Celsius temperature to Fahrenheit.\n",
        "\n",
        "        Returns:\n",
        "        - The converted Fahrenheit temperature.\n",
        "        \"\"\"\n",
        "        return f\"{self.F:.2f}\"  # Use f-string formatting for fixed precision\n",
        "\n",
        "    def read_celsius(self) -> float:\n",
        "        \"\"\"\n",
        "        Read the Celsius temperature.\n",
        "\n",
        "        Returns:\n",
        "        - The Celsius temperature.\n",
        "        \"\"\"\n",
        "        return f\"{self.C:.2f}\"  # Use f-string formatting for fixed precision\n",
        "\n",
        "    def show_temp(self):\n",
        "        \"\"\"\n",
        "        Print the Celsius and Fahrenheit temperatures.\n",
        "        \"\"\"\n",
        "        print(f\"C = {self.read_celsius()}  |  F = {self.read_fahrenheit()}\")\n",
        "\n",
        "\n",
        "if __name__ == \"__main__\":\n",
        "    temperature_celsius = float(input(\"What is the temperature in Celsius? \"))\n",
        "    T = TempConverter(temperature_celsius, (temperature_celsius * 1.8) + 32)\n",
        "    T.show_temp()"
      ],
      "metadata": {
        "id": "-bxBW_oS9BNr"
      },
      "execution_count": null,
      "outputs": []
    },
    {
      "cell_type": "code",
      "source": [
        "class Produto():\n",
        "  def __init__(self, Name, Qt, Price):\n",
        "        self.__name = Name\n",
        "        self.__qt = Qt\n",
        "        self.__price = Price\n",
        "\n",
        "\n",
        "  def ReadPr(self):\n",
        "    return f\"{self.__price:>2.2f}\"\n",
        "\n",
        "  def aumento(self, Value):\n",
        "    self.__price *= (1+Value/100)\n",
        "    return self.__price\n",
        "\n",
        "  def showProd(self):\n",
        "    return float(self.ReadPr())*self.__qt\n",
        "\n",
        "  def showStock(self):\n",
        "    return self.showProd() * self.__qt\n",
        "\n",
        "\n",
        "if __name__ == \"__main__\":\n",
        "\n",
        "    product = Produto('Lp1', 1, 10)\n",
        "    product.aumento(5)\n",
        "\n",
        " print(\" Designação  Valor (€):\\n product.showProd()\")\n",
        "\n",
        "    product2 = Produto('Lp2', 2, 10)\n",
        "    product2.aumento(2)\n",
        "    print(product2.showProd())\n",
        "\n",
        "    product3 = Produto('Lp3', 1.5, 15)\n",
        "    product3.aumento(5)\n",
        "    print(product3.showProd())\n",
        "\n",
        "    product3.showStock()"
      ],
      "metadata": {
        "colab": {
          "base_uri": "https://localhost:8080/"
        },
        "id": "Kc5wG75tMF9_",
        "outputId": "37a7d448-c67b-45fa-f039-17d7cd0f4709"
      },
      "execution_count": null,
      "outputs": [
        {
          "output_type": "stream",
          "name": "stdout",
          "text": [
            "10.5\n",
            "20.4\n",
            "23.625\n"
          ]
        }
      ]
    },
    {
      "cell_type": "code",
      "source": [
        "produt"
      ],
      "metadata": {
        "colab": {
          "base_uri": "https://localhost:8080/"
        },
        "id": "aYnffUBhNqCd",
        "outputId": "fc139d8f-54d4-4a82-85fa-8d562c1a3498"
      },
      "execution_count": null,
      "outputs": [
        {
          "output_type": "execute_result",
          "data": {
            "text/plain": [
              "<__main__.Produto at 0x7f0d978adc30>"
            ]
          },
          "metadata": {},
          "execution_count": 23
        }
      ]
    },
    {
      "cell_type": "code",
      "source": [
        "class Person:\n",
        "\n",
        "  def __init__(self, name: str, email: str):\n",
        "       self.__name = name\n",
        "       self.__phone = phone\n",
        "\n",
        "  def read_name(self):\n",
        "    return self.__name\n",
        "\n",
        "  def read_phone(self):\n",
        "    return self.__phone\n",
        "\n",
        "  def print(self):\n",
        "    return f\"{self.read_name()} -- {self.read_phone()} --\"\n",
        "\n"
      ],
      "metadata": {
        "id": "W4yHyOjoagZ9"
      },
      "execution_count": null,
      "outputs": []
    },
    {
      "cell_type": "code",
      "source": [
        "class Person:\n",
        "\n",
        "   def __init__(self, name: str, email: str):\n",
        "       self.name = name\n",
        "       self.email = email\n",
        "\n",
        "   def update_email_domain(self, new_domain: str):\n",
        "       old_domain = self.email.split(\"@\")[1]\n",
        "       self.email = self.email.replace(old_domain, new_domain)\n",
        "\n",
        "\n",
        "class Student(Person):\n",
        "\n",
        "   def __init__(self, name: str, id: str, email: str, credits: str):\n",
        "       self.name = name\n",
        "       self.id = id\n",
        "       self.email = email\n",
        "       self.credits = credits\n",
        "\n",
        "\n",
        "class Teacher(Person):\n",
        "\n",
        "   def __init__(self, name: str, email: str, room: str, teaching_years: int):\n",
        "       self.name = name\n",
        "       self.email = email\n",
        "       self.room = room\n",
        "       self.teaching_years = teaching_years\n",
        "\n",
        "# Let's test our classes\n",
        "if __name__ == \"__main__\":\n",
        "   saul = Student(\"Saul Student\", \"1234\", \"saul@example.com\", 0)\n",
        "   saul.update_email_domain(\"example.edu\")\n",
        "   print(saul.email)\n",
        "\n",
        "   tara = Teacher(\"Tara Teacher\", \"tara@example.fi\", \"A123\", 2)\n",
        "   tara.update_email_domain(\"example.ex\")\n",
        "   print(tara.email)"
      ],
      "metadata": {
        "id": "4TZtmUXkajkV"
      },
      "execution_count": null,
      "outputs": []
    },
    {
      "cell_type": "code",
      "source": [
        "# Aula 20/6\n",
        "\n"
      ],
      "metadata": {
        "id": "GbOCr7m-bpo4"
      },
      "execution_count": null,
      "outputs": []
    },
    {
      "cell_type": "code",
      "source": [
        "class conta_ordenado(operações_bancárias):\n",
        "  def _init_(self, saldo_inicial, ordenado):\n",
        "    if self.saldo = saldo_inicial):\n",
        "      self.saldo = saldo_inicial\n",
        "      self.saldo_min = -ordenado\n",
        "    else:\n",
        "      print('O saldo deve ser maior ou igual ao seu ordenado')\n",
        "\n",
        "class conta_jovem(operações_bancários):\n",
        "  def __init__(self, saldo_inicial, ordenado):\n",
        "    self.saldo = saldo_inicial\n",
        "    self.saldo_min = 0\n",
        "\n",
        "# tempo runtime para realização da tarefa ...\n",
        "\n",
        "if __name__=='__main__':\n",
        "\n",
        "  tipo_conta = int(input('Escolha o seu tipo de conta: 1-Ordenado, 2-Jovem'))\n",
        "\n",
        "  if tipo_conta==1:\n",
        "    conta_ordenado(int(input))"
      ],
      "metadata": {
        "id": "SDRmbl8Hb2ql"
      },
      "execution_count": null,
      "outputs": []
    },
    {
      "cell_type": "code",
      "source": [
        "\" Ver se  é amigo ou colega de trabalho\"\n",
        "\n",
        "\n",
        "class Amigo(Pessoa):\n",
        "\n"
      ],
      "metadata": {
        "id": "a2tEWikonVap"
      },
      "execution_count": null,
      "outputs": []
    },
    {
      "cell_type": "code",
      "source": [
        "classe propriedade:\n",
        "  def __init__(self, nomeprop, NF):\n",
        "    self.__Proprietario = nomeprop\n",
        "    self.__NFiscal = NF\n",
        "\n",
        "    @property\n",
        "    def Proprietario(self):\n",
        "      return self.__Proprietario\n",
        "    @Proprietario.setter\n",
        "    def Proprietario(N):\n",
        "      self.__Proprietario=N\n",
        "\n",
        "    @property\n",
        "    def NFiscal(self):\n",
        "      return self.__NFiscal\n",
        "    @NFiscal.setter\n",
        "    def NFiscal(NF)\n",
        "      self.__NFiscal =NF\n"
      ],
      "metadata": {
        "id": "qUTqB1wpkiPI"
      },
      "execution_count": null,
      "outputs": []
    },
    {
      "cell_type": "code",
      "source": [
        "#imutáveis variáveis, filtro para as variáveis, indexadas as vareiáveis para serem mudáveis"
      ],
      "metadata": {
        "id": "_ZL1gFQjnTda"
      },
      "execution_count": null,
      "outputs": []
    },
    {
      "cell_type": "code",
      "source": [
        "# Proprietario, NF, Local, Categoria da eficiencia energética\n",
        "class Moradia(propriedade):\n",
        "  def __init__(self, nomeprop, NF, L, C):\n",
        "    super().__init__(nomeprop, NF)\n",
        "    self.__Local = L\n",
        "    self.__Categ = C\n",
        "\n",
        "    @property\n",
        "    def Local(self):\n",
        "      return self.__Local\n",
        "    @Local.setter\n",
        "    def Local(self, L):\n",
        "      self.__Local=L\n",
        "\n",
        "    @property\n",
        "    def Categ(self):\n",
        "      return self.__Categ\n",
        "    @Categ.setter\n",
        "    def Categ(self, C):\n",
        "      self.__Categ = C\n",
        "\n"
      ],
      "metadata": {
        "id": "yy9f2iehoK3O"
      },
      "execution_count": null,
      "outputs": []
    },
    {
      "cell_type": "code",
      "source": [
        "class Apartamento(propriedade):\n",
        "  def __init__"
      ],
      "metadata": {
        "id": "88L9Nnzjtjiv"
      },
      "execution_count": null,
      "outputs": []
    },
    {
      "cell_type": "code",
      "source": [
        "  if __name__=='__main__':\n",
        "    M = Moradia(\"Artur Silva\", 123456789,\"Porto\", \"B\")\n",
        "    A = Apartamento(\"Luisa Reis\", 987654321, \"T3\", 200)\n",
        "    print(M.Proprietario,M.NFiscal, M.Local, M.Categ)\n",
        "    print(A.Proprietario, A.NFiscal, A.Tipo, A.Area)"
      ],
      "metadata": {
        "id": "C8-0YlnDtsuo"
      },
      "execution_count": null,
      "outputs": []
    },
    {
      "cell_type": "code",
      "source": [],
      "metadata": {
        "id": "yj-0mDdrthDx"
      },
      "execution_count": null,
      "outputs": []
    }
  ]
}